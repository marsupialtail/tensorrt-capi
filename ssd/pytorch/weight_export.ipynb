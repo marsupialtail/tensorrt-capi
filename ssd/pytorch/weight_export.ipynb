{
 "cells": [
  {
   "cell_type": "code",
   "execution_count": 1,
   "metadata": {},
   "outputs": [],
   "source": [
    "from config import opt\n",
    "import numpy as np\n",
    "from lib.res_model import RES18_SSD, RES101_SSD\n",
    "from lib.vgg_model import VGG_SSD\n",
    "from lib.resnet import *\n",
    "import torch\n",
    "import torch.nn as nn\n",
    "import torch.nn.functional as F\n",
    "import os\n",
    "from lib.utils import detection_collate\n",
    "\n",
    "from lib.multibox_encoder import MultiBoxEncoder\n",
    "from lib.ssd_loss import MultiBoxLoss\n",
    "\n",
    "from voc_dataset import VOCDetection"
   ]
  },
  {
   "cell_type": "code",
   "execution_count": 3,
   "metadata": {},
   "outputs": [
    {
     "name": "stdout",
     "output_type": "stream",
     "text": [
      "conf.0.bias_bias.npy\t\t     res.4.1.bn2.weight.npy\r\n",
      "conf.0.weight.npy\t\t     res.4.1.bn2.weight_transposed.npy\r\n",
      "conf.0.weight_transposed.npy\t     res.4.1.conv1.weight.npy\r\n",
      "conf.1.bias_bias.npy\t\t     res.4.1.conv1.weight_transposed.npy\r\n",
      "conf.1.weight.npy\t\t     res.4.1.conv2.weight.npy\r\n",
      "conf.1.weight_transposed.npy\t     res.4.1.conv2.weight_transposed.npy\r\n",
      "conf.2.bias_bias.npy\t\t     res.5.0.bn1.bias_bias.npy\r\n",
      "conf.2.weight.npy\t\t     res.5.0.bn1.weight.npy\r\n",
      "conf.2.weight_transposed.npy\t     res.5.0.bn1.weight_transposed.npy\r\n",
      "conf.3.bias_bias.npy\t\t     res.5.0.bn2.bias_bias.npy\r\n",
      "conf.3.weight.npy\t\t     res.5.0.bn2.weight.npy\r\n",
      "conf.3.weight_transposed.npy\t     res.5.0.bn2.weight_transposed.npy\r\n",
      "conf.4.bias_bias.npy\t\t     res.5.0.conv1.weight.npy\r\n",
      "conf.4.weight.npy\t\t     res.5.0.conv1.weight_transposed.npy\r\n",
      "conf.4.weight_transposed.npy\t     res.5.0.conv2.weight.npy\r\n",
      "conf.5.bias_bias.npy\t\t     res.5.0.conv2.weight_transposed.npy\r\n",
      "conf.5.weight.npy\t\t     res.5.0.downsample.0.weight.npy\r\n",
      "conf.5.weight_transposed.npy\t     res.5.0.downsample.0.weight_transposed.npy\r\n",
      "extras.0.bias_bias.npy\t\t     res.5.0.downsample.1.bias_bias.npy\r\n",
      "extras.0.weight.npy\t\t     res.5.0.downsample.1.weight.npy\r\n",
      "extras.0.weight_transposed.npy\t     res.5.0.downsample.1.weight_transposed.npy\r\n",
      "extras.1.bias_bias.npy\t\t     res.5.1.bn1.bias_bias.npy\r\n",
      "extras.1.weight.npy\t\t     res.5.1.bn1.weight.npy\r\n",
      "extras.1.weight_transposed.npy\t     res.5.1.bn1.weight_transposed.npy\r\n",
      "extras.2.bias_bias.npy\t\t     res.5.1.bn2.bias_bias.npy\r\n",
      "extras.2.weight.npy\t\t     res.5.1.bn2.weight.npy\r\n",
      "extras.2.weight_transposed.npy\t     res.5.1.bn2.weight_transposed.npy\r\n",
      "extras.3.bias_bias.npy\t\t     res.5.1.conv1.weight.npy\r\n",
      "extras.3.weight.npy\t\t     res.5.1.conv1.weight_transposed.npy\r\n",
      "extras.3.weight_transposed.npy\t     res.5.1.conv2.weight.npy\r\n",
      "extras.4.bias_bias.npy\t\t     res.5.1.conv2.weight_transposed.npy\r\n",
      "extras.4.weight.npy\t\t     res.6.0.bn1.bias_bias.npy\r\n",
      "extras.4.weight_transposed.npy\t     res.6.0.bn1.weight.npy\r\n",
      "extras.5.bias_bias.npy\t\t     res.6.0.bn1.weight_transposed.npy\r\n",
      "extras.5.weight.npy\t\t     res.6.0.bn2.bias_bias.npy\r\n",
      "extras.5.weight_transposed.npy\t     res.6.0.bn2.weight.npy\r\n",
      "extras.6.bias_bias.npy\t\t     res.6.0.bn2.weight_transposed.npy\r\n",
      "extras.6.weight.npy\t\t     res.6.0.conv1.weight.npy\r\n",
      "extras.6.weight_transposed.npy\t     res.6.0.conv1.weight_transposed.npy\r\n",
      "extras.7.bias_bias.npy\t\t     res.6.0.conv2.weight.npy\r\n",
      "extras.7.weight.npy\t\t     res.6.0.conv2.weight_transposed.npy\r\n",
      "extras.7.weight_transposed.npy\t     res.6.0.downsample.0.weight.npy\r\n",
      "L2Norm.weight.npy\t\t     res.6.0.downsample.0.weight_transposed.npy\r\n",
      "L2Norm.weight_transposed.npy\t     res.6.0.downsample.1.bias_bias.npy\r\n",
      "loc.0.bias_bias.npy\t\t     res.6.0.downsample.1.weight.npy\r\n",
      "loc.0.weight.npy\t\t     res.6.0.downsample.1.weight_transposed.npy\r\n",
      "loc.0.weight_transposed.npy\t     res.6.1.bn1.bias_bias.npy\r\n",
      "loc.1.bias_bias.npy\t\t     res.6.1.bn1.weight.npy\r\n",
      "loc.1.weight.npy\t\t     res.6.1.bn1.weight_transposed.npy\r\n",
      "loc.1.weight_transposed.npy\t     res.6.1.bn2.bias_bias.npy\r\n",
      "loc.2.bias_bias.npy\t\t     res.6.1.bn2.weight.npy\r\n",
      "loc.2.weight.npy\t\t     res.6.1.bn2.weight_transposed.npy\r\n",
      "loc.2.weight_transposed.npy\t     res.6.1.conv1.weight.npy\r\n",
      "loc.3.bias_bias.npy\t\t     res.6.1.conv1.weight_transposed.npy\r\n",
      "loc.3.weight.npy\t\t     res.6.1.conv2.weight.npy\r\n",
      "loc.3.weight_transposed.npy\t     res.6.1.conv2.weight_transposed.npy\r\n",
      "loc.4.bias_bias.npy\t\t     res.7.0.bn1.bias_bias.npy\r\n",
      "loc.4.weight.npy\t\t     res.7.0.bn1.weight.npy\r\n",
      "loc.4.weight_transposed.npy\t     res.7.0.bn1.weight_transposed.npy\r\n",
      "loc.5.bias_bias.npy\t\t     res.7.0.bn2.bias_bias.npy\r\n",
      "loc.5.weight.npy\t\t     res.7.0.bn2.weight.npy\r\n",
      "loc.5.weight_transposed.npy\t     res.7.0.bn2.weight_transposed.npy\r\n",
      "README.md\t\t\t     res.7.0.conv1.weight.npy\r\n",
      "res.0.weight.npy\t\t     res.7.0.conv1.weight_transposed.npy\r\n",
      "res.0.weight_transposed.npy\t     res.7.0.conv2.weight.npy\r\n",
      "res.11.bias_bias.npy\t\t     res.7.0.conv2.weight_transposed.npy\r\n",
      "res.11.weight.npy\t\t     res.7.0.downsample.0.weight.npy\r\n",
      "res.11.weight_transposed.npy\t     res.7.0.downsample.0.weight_transposed.npy\r\n",
      "res.1.bias_bias.npy\t\t     res.7.0.downsample.1.bias_bias.npy\r\n",
      "res.1.weight.npy\t\t     res.7.0.downsample.1.weight.npy\r\n",
      "res.1.weight_transposed.npy\t     res.7.0.downsample.1.weight_transposed.npy\r\n",
      "res.4.0.bn1.bias_bias.npy\t     res.7.1.bn1.bias_bias.npy\r\n",
      "res.4.0.bn1.weight.npy\t\t     res.7.1.bn1.weight.npy\r\n",
      "res.4.0.bn1.weight_transposed.npy    res.7.1.bn1.weight_transposed.npy\r\n",
      "res.4.0.bn2.bias_bias.npy\t     res.7.1.bn2.bias_bias.npy\r\n",
      "res.4.0.bn2.weight.npy\t\t     res.7.1.bn2.weight.npy\r\n",
      "res.4.0.bn2.weight_transposed.npy    res.7.1.bn2.weight_transposed.npy\r\n",
      "res.4.0.conv1.weight.npy\t     res.7.1.conv1.weight.npy\r\n",
      "res.4.0.conv1.weight_transposed.npy  res.7.1.conv1.weight_transposed.npy\r\n",
      "res.4.0.conv2.weight.npy\t     res.7.1.conv2.weight.npy\r\n",
      "res.4.0.conv2.weight_transposed.npy  res.7.1.conv2.weight_transposed.npy\r\n",
      "res.4.1.bn1.bias_bias.npy\t     res.9.bias_bias.npy\r\n",
      "res.4.1.bn1.weight.npy\t\t     res.9.weight.npy\r\n",
      "res.4.1.bn1.weight_transposed.npy    res.9.weight_transposed.npy\r\n",
      "res.4.1.bn2.bias_bias.npy\t     resnet18-5c106cde.pth\r\n"
     ]
    }
   ],
   "source": [
    "!ls weights"
   ]
  },
  {
   "cell_type": "code",
   "execution_count": 4,
   "metadata": {
    "scrolled": true
   },
   "outputs": [
    {
     "name": "stdout",
     "output_type": "stream",
     "text": [
      "resnet18 pretrain_model loading...\n"
     ]
    }
   ],
   "source": [
    " model = RES18_SSD(opt.num_classes, opt.anchor_num, pretrain=True)"
   ]
  },
  {
   "cell_type": "code",
   "execution_count": 37,
   "metadata": {},
   "outputs": [],
   "source": [
    "param_list = list(model.named_parameters())"
   ]
  },
  {
   "cell_type": "code",
   "execution_count": 46,
   "metadata": {},
   "outputs": [],
   "source": [
    "names = {}\n",
    "#for name,param in model.named_parameters():\n",
    "#    names[name] = 0\n",
    "for name, buf in model.named_buffers():\n",
    "    names[name] = buf"
   ]
  },
  {
   "cell_type": "code",
   "execution_count": 77,
   "metadata": {},
   "outputs": [
    {
     "name": "stdout",
     "output_type": "stream",
     "text": [
      "Conv2d(128, 84, kernel_size=(3, 3), stride=(1, 1), padding=(1, 1))\n"
     ]
    }
   ],
   "source": [
    "print(model.conf_layers_list[0])"
   ]
  },
  {
   "cell_type": "code",
   "execution_count": null,
   "metadata": {},
   "outputs": [],
   "source": []
  },
  {
   "cell_type": "code",
   "execution_count": null,
   "metadata": {},
   "outputs": [],
   "source": [
    "weight_tensors_meta = []\n",
    "weight_tensors = []\n"
   ]
  },
  {
   "cell_type": "code",
   "execution_count": null,
   "metadata": {},
   "outputs": [],
   "source": [
    "for j in range(len(param_list)):\n",
    "    if \"weight\" in param_list[j][0]:\n",
    "        weight_tensors_meta.append(param_list[j][0])\n",
    "        weight_tensors.append(param_list[j][1].detach().numpy())\n",
    "        name = weight_tensors_meta[-1]\n",
    "        print(name, weight_tensors[-1].shape)\n",
    "        \n",
    "        np.save(name + \".npy\",weight_tensors[-1].squeeze())\n",
    "        np.save(name+\"_transposed.npy\",weight_tensors[-1].squeeze().transpose().copy())"
   ]
  }
 ],
 "metadata": {
  "kernelspec": {
   "display_name": "Python [conda env:lpips]",
   "language": "python",
   "name": "conda-env-lpips-py"
  },
  "language_info": {
   "codemirror_mode": {
    "name": "ipython",
    "version": 3
   },
   "file_extension": ".py",
   "mimetype": "text/x-python",
   "name": "python",
   "nbconvert_exporter": "python",
   "pygments_lexer": "ipython3",
   "version": "3.6.10"
  }
 },
 "nbformat": 4,
 "nbformat_minor": 4
}
